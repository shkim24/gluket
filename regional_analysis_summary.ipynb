{
 "cells": [
  {
   "cell_type": "code",
   "execution_count": 31,
   "metadata": {},
   "outputs": [],
   "source": [
    "import pandas as pd\n",
    "import numpy as np\n",
    "import pathlib\n",
    "import glob\n",
    "import shutil"
   ]
  },
  {
   "cell_type": "code",
   "execution_count": 17,
   "metadata": {},
   "outputs": [],
   "source": [
    "mintpath = r'C:\\Users\\zndr2\\Desktop\\test_aggregate\\MINT_AAL'\n",
    "outpath = r'C:\\Users\\zndr2\\Desktop\\test_aggregate\\regional analysis'\n",
    "si_list = glob.glob(f'{mintpath}/*SI.txt')\n",
    "siref_list = glob.glob(f'{mintpath}/*SI_Ref.txt')\n",
    "\n",
    "subj_list = ['GLUKET_22100000'#'GLUKET_32535141',\n",
    "    #GLUKET_32535140','GLUKET_32535144'#,'GLUKET_34400000','GLUKET_37000000', ##3 SCANS\n",
    "             #'GLUKET_32535134','GLUKET_46100000','GLUKET_60203853', ##2 SCANS\n",
    "            #'GLUKET_34000000','GLUKET_87030659','GLUKET_87030658','22100000'\n",
    "            ]"
   ]
  },
  {
   "cell_type": "code",
   "execution_count": 18,
   "metadata": {},
   "outputs": [
    {
     "name": "stdout",
     "output_type": "stream",
     "text": [
      "['C:\\\\Users\\\\zndr2\\\\Desktop\\\\test_aggregate\\\\MINT_AAL\\\\GLUKET_22100000_baseline_s1_20230607_015033_47ROIs_FITT2_results_SI_Ref.txt', 'C:\\\\Users\\\\zndr2\\\\Desktop\\\\test_aggregate\\\\MINT_AAL\\\\GLUKET_22100000_stress_s1_20230607_020023_47ROIs_FITT2_results_SI_Ref.txt']\n"
     ]
    }
   ],
   "source": [
    "print(siref_list)\n"
   ]
  },
  {
   "cell_type": "code",
   "execution_count": 19,
   "metadata": {},
   "outputs": [
    {
     "data": {
      "text/plain": [
       "['C:\\\\Users\\\\zndr2\\\\Desktop\\\\test_aggregate\\\\MINT_AAL\\\\GLUKET_22100000_baseline_s1_20230607_015033_47ROIs_FITT2_results_SI.txt',\n",
       " 'C:\\\\Users\\\\zndr2\\\\Desktop\\\\test_aggregate\\\\MINT_AAL\\\\GLUKET_22100000_stress_s1_20230607_020023_47ROIs_FITT2_results_SI.txt']"
      ]
     },
     "execution_count": 19,
     "metadata": {},
     "output_type": "execute_result"
    }
   ],
   "source": [
    "si_list"
   ]
  },
  {
   "cell_type": "code",
   "execution_count": 39,
   "metadata": {},
   "outputs": [],
   "source": [
    "#copy and paste an empty template, name it {subj}.xlsx\n",
    "for subj in subj_list:\n",
    "    \n",
    "    source_excel_path = r\"C:\\Users\\zndr2\\Desktop\\test_aggregate\\regional analysis\\template.xlsx\"\n",
    "    destination_folder = r\"C:\\Users\\zndr2\\Desktop\\test_aggregate\\regional analysis\"\n",
    "    new_excel_filename = f'{subj}.xlsx' #fix this to incorporate the variable subj\n",
    "    shutil.copy(source_excel_path, f\"{destination_folder}/{new_excel_filename}\")\n",
    "    \n",
    "    "
   ]
  },
  {
   "cell_type": "code",
   "execution_count": 41,
   "metadata": {
    "scrolled": false
   },
   "outputs": [
    {
     "name": "stdout",
     "output_type": "stream",
     "text": [
      "Writing GLUKET_22100000.xlsx complete \n",
      "\n"
     ]
    }
   ],
   "source": [
    "for subj in subj_list:\n",
    "    \n",
    "    source_excel_path = r\"C:\\Users\\zndr2\\Desktop\\test_aggregate\\regional analysis\\template.xlsx\"\n",
    "    destination_folder = r\"C:\\Users\\zndr2\\Desktop\\test_aggregate\\regional analysis\"\n",
    "    new_excel_filename = f'{subj}.xlsx'\n",
    "\n",
    "    shutil.copy(source_excel_path, f\"{destination_folder}/{new_excel_filename}\")\n",
    "    \n",
    "    \n",
    "    si = [x for x in si_list if subj in x]\n",
    "    siref = [x for x in siref_list if subj in x]\n",
    "    \n",
    "    base = pd.read_csv(si[0],sep='\\t',header=0)\n",
    "    baseref = pd.read_csv(siref[0],sep='\\t',header=0)\n",
    "    base = base.drop(columns=['Study'])\n",
    "    base = base.iloc[:,:-1] #exclude last column\n",
    "    base['H2O_Area'] = baseref['H2O_Area']\n",
    "    base[' '] = ' '\n",
    "\n",
    "    if len(si)<3:\n",
    "        control = pd.DataFrame(columns = base.columns.tolist())\n",
    "\n",
    "        stress = pd.read_csv(si[1],sep='\\t',header=0)\n",
    "        stressref = pd.read_csv(siref[1],sep='\\t',header=0)\n",
    "        stress = stress.drop(columns=['Study'])\n",
    "        stress = stress.iloc[:,:-1]\n",
    "        stress['H2O_Area'] = stressref['H2O_Area']\n",
    "        stress[' '] = ' '\n",
    "    \n",
    "    else:\n",
    "        control = pd.read_csv(si[1],sep='\\t',header=0)\n",
    "        controlref = pd.read_csv(siref[1],sep='\\t',header=0)\n",
    "        control = control.drop(columns=['Study'])\n",
    "        control = control.iloc[:,:-1]\n",
    "        control['H2O_Area'] = controlref['H2O_Area']\n",
    "        control[' '] = ' '\n",
    "\n",
    "        stress = pd.read_csv(si[2],sep='\\t',header=0)\n",
    "        stressref = pd.read_csv(siref[2],sep='\\t',header=0)\n",
    "        stress = stress.drop(columns=['Study'])\n",
    "        stress = stress.iloc[:,:-1]\n",
    "        stress['H2O_Area'] = stressref['H2O_Area']\n",
    "        stress[' '] = ' '\n",
    "    result = pd.concat([base,control,stress], axis=1)\n",
    "    with pd.ExcelWriter(f'{outpath}/{subj}.xlsx',engine='openpyxl',mode='a') as writer:\n",
    "        result.to_excel(writer,sheet_name=f'{subj}_FITT2_results',index=False)\n",
    "        \n",
    "    print(f'Writing {subj}.xlsx complete \\n')"
   ]
  },
  {
   "cell_type": "code",
   "execution_count": null,
   "metadata": {},
   "outputs": [],
   "source": []
  }
 ],
 "metadata": {
  "kernelspec": {
   "display_name": "Python 3 (ipykernel)",
   "language": "python",
   "name": "python3"
  },
  "language_info": {
   "codemirror_mode": {
    "name": "ipython",
    "version": 3
   },
   "file_extension": ".py",
   "mimetype": "text/x-python",
   "name": "python",
   "nbconvert_exporter": "python",
   "pygments_lexer": "ipython3",
   "version": "3.10.9"
  }
 },
 "nbformat": 4,
 "nbformat_minor": 4
}
