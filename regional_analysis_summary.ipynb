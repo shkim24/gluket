{
 "cells": [
  {
   "cell_type": "code",
   "execution_count": 2,
   "metadata": {},
   "outputs": [],
   "source": [
    "import pandas as pd\n",
    "import numpy as np\n",
    "import pathlib\n",
    "import glob"
   ]
  },
  {
   "cell_type": "code",
   "execution_count": 17,
   "metadata": {},
   "outputs": [],
   "source": [
    "mintpath = 'Z:/Treadway Pilot/Ketamine Pilot/Mint_Output_anatomic'\n",
    "outpath = 'Z:/Treadway Pilot/Ketamine Pilot/Regional Analysis'\n",
    "si_list = glob.glob(f'{mintpath}/*SI.txt')\n",
    "siref_list = glob.glob(f'{mintpath}/*SI_Ref.txt')\n",
    "\n",
    "subj_list = ['GLUKET_68281707'#'GLUKET_32535141',\n",
    "    #GLUKET_32535140','GLUKET_32535144'#,'GLUKET_34400000','GLUKET_37000000', ##3 SCANS\n",
    "             #'GLUKET_32535134','GLUKET_46100000','GLUKET_60203853', ##2 SCANS\n",
    "            #'GLUKET_34000000','GLUKET_87030659','GLUKET_87030658','22100000'\n",
    "            ]"
   ]
  },
  {
   "cell_type": "code",
   "execution_count": 18,
   "metadata": {
    "scrolled": false
   },
   "outputs": [
    {
     "name": "stdout",
     "output_type": "stream",
     "text": [
      "Writing GLUKET_46100000.xlsx complete \n",
      "\n",
      "Writing GLUKET_60203853.xlsx complete \n",
      "\n",
      "Writing GLUKET_34000000.xlsx complete \n",
      "\n",
      "Writing GLUKET_87030659.xlsx complete \n",
      "\n",
      "Writing GLUKET_87030658.xlsx complete \n",
      "\n"
     ]
    }
   ],
   "source": [
    "for subj in subj_list:\n",
    "    si = [x for x in si_list if subj in x]\n",
    "    siref = [x for x in siref_list if subj in x]\n",
    "    \n",
    "    base = pd.read_csv(si[0],sep='\\t',header=0)\n",
    "    baseref = pd.read_csv(siref[0],sep='\\t',header=0)\n",
    "    base = base.drop(columns=['Study'])\n",
    "    base = base.iloc[:,:-1]\n",
    "    base['H2O_Area'] = baseref['H2O_Area']\n",
    "    base[' '] = ' '\n",
    "\n",
    "    if len(si)<3:\n",
    "        control = pd.DataFrame(columns = base.columns.tolist())\n",
    "\n",
    "        stress = pd.read_csv(si[1],sep='\\t',header=0)\n",
    "        stressref = pd.read_csv(siref[1],sep='\\t',header=0)\n",
    "        stress = stress.drop(columns=['Study'])\n",
    "        stress = stress.iloc[:,:-1]\n",
    "        stress['H2O_Area'] = stressref['H2O_Area']\n",
    "        stress[' '] = ' '\n",
    "    else:\n",
    "        control = pd.read_csv(si[1],sep='\\t',header=0)\n",
    "        controlref = pd.read_csv(siref[1],sep='\\t',header=0)\n",
    "        control = control.drop(columns=['Study'])\n",
    "        control = control.iloc[:,:-1]\n",
    "        control['H2O_Area'] = controlref['H2O_Area']\n",
    "        control[' '] = ' '\n",
    "\n",
    "        stress = pd.read_csv(si[2],sep='\\t',header=0)\n",
    "        stressref = pd.read_csv(siref[2],sep='\\t',header=0)\n",
    "        stress = stress.drop(columns=['Study'])\n",
    "        stress = stress.iloc[:,:-1]\n",
    "        stress['H2O_Area'] = stressref['H2O_Area']\n",
    "        stress[' '] = ' '\n",
    "    result = pd.concat([base,control,stress], axis=1)\n",
    "    with pd.ExcelWriter(f'{outpath}/{subj}.xlsx',engine='openpyxl',mode='a') as writer:\n",
    "        result.to_excel(writer,sheet_name=f'{subj}_FITT2_results',index=False)\n",
    "        \n",
    "    print(f'Writing {subj}.xlsx complete \\n')"
   ]
  }
 ],
 "metadata": {
  "kernelspec": {
   "display_name": "Python 3",
   "language": "python",
   "name": "python3"
  },
  "language_info": {
   "codemirror_mode": {
    "name": "ipython",
    "version": 3
   },
   "file_extension": ".py",
   "mimetype": "text/x-python",
   "name": "python",
   "nbconvert_exporter": "python",
   "pygments_lexer": "ipython3",
   "version": "3.9.5"
  }
 },
 "nbformat": 4,
 "nbformat_minor": 4
}
